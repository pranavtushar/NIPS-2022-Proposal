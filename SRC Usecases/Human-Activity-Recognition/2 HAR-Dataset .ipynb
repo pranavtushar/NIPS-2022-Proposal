{
 "cells": [
  {
   "cell_type": "code",
   "execution_count": 13,
   "metadata": {},
   "outputs": [],
   "source": [
    "from tensorflow.keras import layers, Model, backend as K\n",
    "from tensorflow.keras import backend as K \n",
    "from tensorflow.keras.layers import Layer\n",
    "import tensorflow as tf\n",
    "import matplotlib.pyplot as plt\n",
    "from tensorflow.keras.layers import Bidirectional, Dropout, Activation, Dense, LSTM\n",
    "from tensorflow.keras.models import Sequential\n",
    "from kerashypetune import KerasGridSearch\n",
    "\n",
    "from numpy import array\n",
    "from numpy import dstack\n",
    "from numpy import unique\n",
    "from pandas import read_csv\n",
    "from matplotlib import pyplot"
   ]
  },
  {
   "cell_type": "code",
   "execution_count": 14,
   "metadata": {},
   "outputs": [],
   "source": [
    "# load a single file as a numpy array\n",
    "def load_file(filepath):\n",
    "    dataframe = read_csv(filepath, header=None, delim_whitespace=True)\n",
    "    return dataframe.values\n",
    "\n",
    "# load a list of files, such as x, y, z data for a given variable\n",
    "def load_group(filenames, prefix=''):\n",
    "    loaded = list()\n",
    "    for name in filenames:\n",
    "        data = load_file(prefix + name)\n",
    "        loaded.append(data)\n",
    "    # stack group so that features are the 3rd dimension\n",
    "    loaded = dstack(loaded)\n",
    "    return loaded\n",
    "\n",
    "# load a dataset group, such as train or test\n",
    "def load_dataset(group, prefix=''):\n",
    "    filepath = prefix + group + '/Inertial Signals/'\n",
    "    # load all 9 files as a single array\n",
    "    filenames = list()\n",
    "    # total acceleration\n",
    "    filenames += ['total_acc_x_'+group+'.txt', 'total_acc_y_'+group+'.txt', 'total_acc_z_'+group+'.txt']\n",
    "    # body acceleration\n",
    "    filenames += ['body_acc_x_'+group+'.txt', 'body_acc_y_'+group+'.txt', 'body_acc_z_'+group+'.txt']\n",
    "    # body gyroscope\n",
    "    filenames += ['body_gyro_x_'+group+'.txt', 'body_gyro_y_'+group+'.txt', 'body_gyro_z_'+group+'.txt']\n",
    "    # load input data\n",
    "    X = load_group(filenames, filepath)\n",
    "    # load class output\n",
    "    y = load_file(prefix + group + '/y_'+group+'.txt')\n",
    "    return X, y\n",
    "\n",
    "# get all data for one subject\n",
    "def data_for_subject(X, y, sub_map, sub_id):\n",
    "    # get row indexes for the subject id\n",
    "    ix = [i for i in range(len(sub_map)) if sub_map[i]==sub_id]\n",
    "    # return the selected samples\n",
    "    return X[ix, :, :], y[ix]\n",
    "\n",
    "# convert a series of windows to a 1D list\n",
    "def to_series(windows):\n",
    "    series = list()\n",
    "    for window in windows:\n",
    "        # remove the overlap from the window\n",
    "        half = int(len(window) / 2) - 1\n",
    "        for value in window[-half:]:\n",
    "            series.append(value)\n",
    "    return series\n",
    "\n",
    "# group data by activity\n",
    "def data_by_activity(X, y, activities):\n",
    "    # group windows by activity\n",
    "    return {a:X[y[:,0]==a, :, :] for a in activities}\n",
    "\n",
    "# plot histograms for each activity for a subject\n",
    "def plot_activity_histograms(X, y):\n",
    "    # get a list of unique activities for the subject\n",
    "    activity_ids = unique(y[:,0])\n",
    "    # group windows by activity\n",
    "    grouped = data_by_activity(X, y, activity_ids)\n",
    "    # plot per activity, histograms for each axis\n",
    "    pyplot.figure()\n",
    "    xaxis = None\n",
    "    for k in range(len(activity_ids)):\n",
    "        act_id = activity_ids[k]\n",
    "        # total acceleration\n",
    "        for i in range(3):\n",
    "            ax = pyplot.subplot(len(activity_ids), 1, k+1, sharex=xaxis)\n",
    "            ax.set_xlim(-1,1)\n",
    "            if k == 0:\n",
    "                xaxis = ax\n",
    "            pyplot.hist(to_series(grouped[act_id][:,:,i]), bins=100)\n",
    "            pyplot.title('activity '+str(act_id), y=0, loc='left')\n",
    "    pyplot.show()"
   ]
  },
  {
   "cell_type": "code",
   "execution_count": 15,
   "metadata": {},
   "outputs": [
    {
     "name": "stdout",
     "output_type": "stream",
     "text": [
      "/Users/pranavtushar\n"
     ]
    }
   ],
   "source": [
    "cd"
   ]
  },
  {
   "cell_type": "code",
   "execution_count": 16,
   "metadata": {},
   "outputs": [
    {
     "name": "stdout",
     "output_type": "stream",
     "text": [
      "(7352, 128, 9) (7352, 1)\n",
      "(2947, 128, 9) (2947, 1)\n"
     ]
    }
   ],
   "source": [
    "# load all train\n",
    "X_train, y_train = load_dataset('train', '/Users/pranavtushar/Documents/time-series/HARDataset/')\n",
    "print(X_train.shape, y_train.shape)\n",
    "\n",
    "# load all test\n",
    "X_test, y_test = load_dataset('test', '/Users/pranavtushar/Documents/time-series/HARDataset/')\n",
    "print(X_test.shape, y_test.shape)"
   ]
  },
  {
   "cell_type": "code",
   "execution_count": 17,
   "metadata": {},
   "outputs": [
    {
     "data": {
      "image/png": "[encoded data removed]",
      "text/plain": [
       "<Figure size 432x288 with 6 Axes>"
      ]
     },
     "metadata": {
      "needs_background": "light"
     },
     "output_type": "display_data"
    }
   ],
   "source": [
    "sub_map = load_file('/Users/pranavtushar/Documents/time-series/HARDataset/train/subject_train.txt')\n",
    "train_subjects = unique(sub_map)\n",
    "sub_map1 = load_file('/Users/pranavtushar/Documents/time-series/HARDataset/test/subject_test.txt')\n",
    "test_subjects = unique(sub_map1)\n",
    "# get the data for one subject\n",
    "sub_id = train_subjects[0]\n",
    "subX, suby = data_for_subject(X_train, y_train, sub_map, sub_id)\n",
    "sub_id1 = test_subjects[0]\n",
    "subX1, suby1 = data_for_subject(X_test, y_test, sub_map, sub_id1)\n",
    "# plot data for subject\n",
    "plot_activity_histograms(subX, suby)\n",
    "# plot_activity_histograms(subX1, suby1)"
   ]
  },
  {
   "cell_type": "code",
   "execution_count": 18,
   "metadata": {},
   "outputs": [],
   "source": [
    "class T2V(Layer):\n",
    "    \n",
    "    def __init__(self, output_dim=None, **kwargs):\n",
    "        self.output_dim = output_dim\n",
    "        super(T2V, self).__init__(**kwargs)\n",
    "        \n",
    "    def build(self, input_shape):\n",
    "\n",
    "        self.W = self.add_weight(name='W',\n",
    "                                shape=(input_shape[-1], self.output_dim),\n",
    "                                initializer='uniform',\n",
    "                                trainable=True)\n",
    "\n",
    "        self.P = self.add_weight(name='P',\n",
    "                                shape=(input_shape[1], self.output_dim),\n",
    "                                initializer='uniform',\n",
    "                                trainable=True)\n",
    "\n",
    "        self.w = self.add_weight(name='w',\n",
    "                                shape=(input_shape[1], 1),\n",
    "                                initializer='uniform',\n",
    "                                trainable=True)\n",
    "\n",
    "        self.p = self.add_weight(name='p',\n",
    "                                shape=(input_shape[1], 1),\n",
    "                                initializer='uniform',\n",
    "                                trainable=True)\n",
    "\n",
    "        super(T2V, self).build(input_shape)\n",
    "        \n",
    "    def call(self, x):\n",
    "        \n",
    "        original = self.w * x + self.p #if i = 0\n",
    "        sin_trans = K.sin(K.dot(x, self.W) + self.P) # Frequecy and phase shift of sine function, learnable parameters. if 1 <= i <= k\n",
    "        \n",
    "        return K.concatenate([sin_trans, original], -1)"
   ]
  },
  {
   "cell_type": "code",
   "execution_count": 19,
   "metadata": {},
   "outputs": [],
   "source": [
    "class Time2Vec:\n",
    "\n",
    "    def __init__(self, \n",
    "                param={\n",
    "                    'unit': 32,\n",
    "                    't2v_dim': 64,\n",
    "                    'lr': 1e-2, \n",
    "                    'act': 'relu', \n",
    "                    'epochs': 5,\n",
    "                    'batch_size': 1024\n",
    "                }, dim=20):\n",
    "        self.param = param\n",
    "        self.dim = dim\n",
    "\n",
    "    def set_LSTM(self):  \n",
    "        inp = layers.Input(shape=(self.dim,9))\n",
    "        x = T2V(self.param['t2v_dim'])(inp)\n",
    "        x = LSTM(self.param['unit'], activation=self.param['act'])(x)\n",
    "        x = Dense(1)(x)\n",
    "        m = Model(inp, x)\n",
    "        m.compile(loss='mse', optimizer='adam')\n",
    "        m.summary()\n",
    "        self.model = m\n",
    "    \n",
    "    def train(self, X_train, y_train):\n",
    "\n",
    "        self.history = self.model.fit(X_train, y_train, epochs=20, validation_split=0.2, shuffle=False)\n",
    "    \n",
    "    def plot_training(self):\n",
    "\n",
    "        plt.plot(self.history.history['loss'])\n",
    "        plt.plot(self.history.history['val_loss'])\n",
    "        plt.title('model loss')\n",
    "        plt.ylabel('loss')\n",
    "        plt.xlabel('epoch')\n",
    "        plt.legend(['train', 'test'], loc='upper left')\n",
    "        plt.show()\n",
    "\n",
    "    def evaluate(self, X_test, y_test):\n",
    "\n",
    "        self.model.evaluate(X_test, y_test)\n",
    "\n",
    "    def plot_predictions(self, y_test, y_hat, item=\"HAR Activity\"):\n",
    "\n",
    "        plt.plot(y_test, label=f\"Actual {item}\", color='green')\n",
    "        plt.plot(y_hat, label=f\"Predicted {item}\", color='red')\n",
    "        \n",
    "        plt.title(f'{item} prediction')\n",
    "        plt.xlabel('Time [days]')\n",
    "        plt.ylabel(f'{item}')\n",
    "        plt.legend(loc='best')\n",
    "        plt.show()\n",
    "    "
   ]
  },
  {
   "cell_type": "code",
   "execution_count": 20,
   "metadata": {},
   "outputs": [
    {
     "name": "stdout",
     "output_type": "stream",
     "text": [
      "Model: \"model_1\"\n",
      "_________________________________________________________________\n",
      "Layer (type)                 Output Shape              Param #   \n",
      "=================================================================\n",
      "input_2 (InputLayer)         [(None, 128, 9)]          0         \n",
      "_________________________________________________________________\n",
      "t2v_1 (T2V)                  (None, 128, 73)           9024      \n",
      "_________________________________________________________________\n",
      "lstm_1 (LSTM)                (None, 32)                13568     \n",
      "_________________________________________________________________\n",
      "dense_1 (Dense)              (None, 1)                 33        \n",
      "=================================================================\n",
      "Total params: 22,625\n",
      "Trainable params: 22,625\n",
      "Non-trainable params: 0\n",
      "_________________________________________________________________\n"
     ]
    }
   ],
   "source": [
    "model_instance = Time2Vec(dim=128)\n",
    "model_instance.set_LSTM()"
   ]
  },
  {
   "cell_type": "code",
   "execution_count": 21,
   "metadata": {},
   "outputs": [
    {
     "name": "stdout",
     "output_type": "stream",
     "text": [
      "Epoch 1/20\n",
      "184/184 [==============================] - 6s 30ms/step - loss: 7.8644 - val_loss: 2.2224\n",
      "Epoch 2/20\n",
      "184/184 [==============================] - 5s 30ms/step - loss: 1.7387 - val_loss: 2.1691\n",
      "Epoch 3/20\n",
      "184/184 [==============================] - 5s 29ms/step - loss: 1.6898 - val_loss: 2.1324\n",
      "Epoch 4/20\n",
      "184/184 [==============================] - 5s 29ms/step - loss: 39.3455 - val_loss: 3.8716\n",
      "Epoch 5/20\n",
      "184/184 [==============================] - 6s 31ms/step - loss: 3.1738 - val_loss: 2.0948\n",
      "Epoch 6/20\n",
      "184/184 [==============================] - 5s 29ms/step - loss: 1.9927 - val_loss: 2.0370\n",
      "Epoch 7/20\n",
      "184/184 [==============================] - 5s 29ms/step - loss: 1.9237 - val_loss: 1.9865\n",
      "Epoch 8/20\n",
      "184/184 [==============================] - 5s 29ms/step - loss: 1.8612 - val_loss: 1.9440\n",
      "Epoch 9/20\n",
      "184/184 [==============================] - 5s 29ms/step - loss: 1.8061 - val_loss: 1.9090\n",
      "Epoch 10/20\n",
      "184/184 [==============================] - 5s 29ms/step - loss: 1.7585 - val_loss: 1.8801\n",
      "Epoch 11/20\n",
      "184/184 [==============================] - 5s 29ms/step - loss: 1.7175 - val_loss: 1.8573\n",
      "Epoch 12/20\n",
      "184/184 [==============================] - 5s 29ms/step - loss: 1.6832 - val_loss: 1.8395\n",
      "Epoch 13/20\n",
      "184/184 [==============================] - 5s 28ms/step - loss: 1.6536 - val_loss: 1.8250\n",
      "Epoch 14/20\n",
      "184/184 [==============================] - 5s 29ms/step - loss: 1.6295 - val_loss: 1.8128\n",
      "Epoch 15/20\n",
      "184/184 [==============================] - 5s 29ms/step - loss: 1.6072 - val_loss: 1.7988\n",
      "Epoch 16/20\n",
      "184/184 [==============================] - 5s 29ms/step - loss: 1.5819 - val_loss: 1.7859\n",
      "Epoch 17/20\n",
      "184/184 [==============================] - 7s 38ms/step - loss: 1.5602 - val_loss: 1.7721\n",
      "Epoch 18/20\n",
      "184/184 [==============================] - 5s 29ms/step - loss: 1.5412 - val_loss: 1.7613\n",
      "Epoch 19/20\n",
      "184/184 [==============================] - 5s 30ms/step - loss: 1.5266 - val_loss: 1.7473\n",
      "Epoch 20/20\n",
      "184/184 [==============================] - 5s 30ms/step - loss: 1.5097 - val_loss: 1.7307\n"
     ]
    }
   ],
   "source": [
    "model_instance.train(X_train, y_train)\n",
    "y_hat = model_instance.model.predict(X_test)"
   ]
  },
  {
   "cell_type": "code",
   "execution_count": 22,
   "metadata": {},
   "outputs": [
    {
     "data": {
      "image/png": "[encoded data removed]",
      "text/plain": [
       "<Figure size 432x288 with 1 Axes>"
      ]
     },
     "metadata": {
      "needs_background": "light"
     },
     "output_type": "display_data"
    }
   ],
   "source": [
    "model_instance.plot_predictions(y_test, y_hat, item= \"human activity\")"
   ]
  },
  {
   "cell_type": "code",
   "execution_count": 23,
   "metadata": {},
   "outputs": [
    {
     "data": {
      "image/png": "[encoded data removed]",
      "text/plain": [
       "<Figure size 432x288 with 1 Axes>"
      ]
     },
     "metadata": {
      "needs_background": "light"
     },
     "output_type": "display_data"
    }
   ],
   "source": [
    " model_instance.plot_training()"
   ]
  },
  {
   "cell_type": "code",
   "execution_count": 24,
   "metadata": {},
   "outputs": [
    {
     "name": "stdout",
     "output_type": "stream",
     "text": [
      "93/93 [==============================] - 1s 8ms/step - loss: 1.6697\n"
     ]
    }
   ],
   "source": [
    "model_instance.evaluate(X_test, y_test)"
   ]
  },
  {
   "cell_type": "code",
   "execution_count": null,
   "metadata": {},
   "outputs": [],
   "source": []
  },
  {
   "cell_type": "code",
   "execution_count": null,
   "metadata": {},
   "outputs": [],
   "source": []
  },
  {
   "cell_type": "code",
   "execution_count": null,
   "metadata": {},
   "outputs": [],
   "source": []
  },
  {
   "cell_type": "code",
   "execution_count": null,
   "metadata": {},
   "outputs": [],
   "source": []
  },
  {
   "cell_type": "code",
   "execution_count": null,
   "metadata": {},
   "outputs": [],
   "source": []
  },
  {
   "cell_type": "code",
   "execution_count": null,
   "metadata": {},
   "outputs": [],
   "source": []
  },
  {
   "cell_type": "code",
   "execution_count": null,
   "metadata": {},
   "outputs": [],
   "source": []
  },
  {
   "cell_type": "code",
   "execution_count": null,
   "metadata": {},
   "outputs": [],
   "source": []
  },
  {
   "cell_type": "code",
   "execution_count": null,
   "metadata": {},
   "outputs": [],
   "source": []
  },
  {
   "cell_type": "code",
   "execution_count": null,
   "metadata": {},
   "outputs": [],
   "source": []
  },
  {
   "cell_type": "code",
   "execution_count": null,
   "metadata": {},
   "outputs": [],
   "source": []
  },
  {
   "cell_type": "code",
   "execution_count": null,
   "metadata": {},
   "outputs": [],
   "source": []
  },
  {
   "cell_type": "code",
   "execution_count": null,
   "metadata": {},
   "outputs": [],
   "source": []
  },
  {
   "cell_type": "code",
   "execution_count": null,
   "metadata": {},
   "outputs": [],
   "source": []
  },
  {
   "cell_type": "code",
   "execution_count": null,
   "metadata": {},
   "outputs": [],
   "source": []
  },
  {
   "cell_type": "code",
   "execution_count": null,
   "metadata": {},
   "outputs": [],
   "source": []
  },
  {
   "cell_type": "code",
   "execution_count": null,
   "metadata": {},
   "outputs": [],
   "source": []
  },
  {
   "cell_type": "code",
   "execution_count": null,
   "metadata": {},
   "outputs": [],
   "source": []
  },
  {
   "cell_type": "code",
   "execution_count": null,
   "metadata": {},
   "outputs": [],
   "source": []
  },
  {
   "cell_type": "code",
   "execution_count": null,
   "metadata": {},
   "outputs": [],
   "source": []
  },
  {
   "cell_type": "code",
   "execution_count": null,
   "metadata": {},
   "outputs": [],
   "source": []
  },
  {
   "cell_type": "code",
   "execution_count": null,
   "metadata": {},
   "outputs": [],
   "source": []
  },
  {
   "cell_type": "code",
   "execution_count": null,
   "metadata": {},
   "outputs": [],
   "source": []
  }
 ],
 "metadata": {
  "kernelspec": {
   "display_name": "Python 3",
   "language": "python",
   "name": "python3"
  },
  "language_info": {
   "codemirror_mode": {
    "name": "ipython",
    "version": 3
   },
   "file_extension": ".py",
   "mimetype": "text/x-python",
   "name": "python",
   "nbconvert_exporter": "python",
   "pygments_lexer": "ipython3",
   "version": "3.8.5"
  }
 },
 "nbformat": 4,
 "nbformat_minor": 4
}
